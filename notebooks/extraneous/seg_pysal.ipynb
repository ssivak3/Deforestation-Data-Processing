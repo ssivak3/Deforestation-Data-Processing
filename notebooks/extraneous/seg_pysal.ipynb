{
 "cells": [
  {
   "cell_type": "code",
   "execution_count": 4,
   "metadata": {},
   "outputs": [],
   "source": [
    "import rasterio as rio\n",
    "import numpy as np\n",
    "import libpysal as ps \n",
    "import pandas as pd\n",
    "from PIL import Image"
   ]
  },
  {
   "cell_type": "code",
   "execution_count": 88,
   "metadata": {},
   "outputs": [],
   "source": [
    "chirps_t = \"../data/raw/segmented/10S60W/chirps_2001_10S60W.tif\"\n",
    "chirps_p = \"../data/raw/segmented/10S60W/chirps-v2.0.2001_segmented.tif\"\n",
    "chirps = \"../data/raw/chirps/chirps-v2.0.2001.tif\"\n",
    "chirps_s = \"../data/raw/segmented/chirps_2001.tif\""
   ]
  },
  {
   "cell_type": "code",
   "execution_count": 99,
   "metadata": {},
   "outputs": [],
   "source": [
    "with rio.open(chirps_t) as src:\n",
    "    datat = src.read()\n",
    "    datat = np.squeeze(data).astype(\"float32\")\n",
    "    \n",
    "with rio.open(chirps_p) as src:\n",
    "    datap = src.read()\n",
    "    datap = np.squeeze(data).astype(\"float32\")\n",
    "with rio.open(chirps_s) as src:\n",
    "    datas = src.read()\n",
    "    datas = np.squeeze(data).astype(\"float32\")"
   ]
  },
  {
   "cell_type": "code",
   "execution_count": 106,
   "metadata": {},
   "outputs": [
    {
     "ename": "ValueError",
     "evalue": "The truth value of an array with more than one element is ambiguous. Use a.any() or a.all()",
     "output_type": "error",
     "traceback": [
      "\u001b[0;31m---------------------------------------------------------------------------\u001b[0m",
      "\u001b[0;31mValueError\u001b[0m                                Traceback (most recent call last)",
      "\u001b[0;32m<ipython-input-106-834991cb549c>\u001b[0m in \u001b[0;36m<module>\u001b[0;34m\u001b[0m\n\u001b[0;32m----> 1\u001b[0;31m \u001b[0mmin\u001b[0m\u001b[0;34m(\u001b[0m\u001b[0mdatat\u001b[0m\u001b[0;34m)\u001b[0m\u001b[0;34m\u001b[0m\u001b[0;34m\u001b[0m\u001b[0m\n\u001b[0m",
      "\u001b[0;31mValueError\u001b[0m: The truth value of an array with more than one element is ambiguous. Use a.any() or a.all()"
     ]
    }
   ],
   "source": []
  },
  {
   "cell_type": "code",
   "execution_count": 96,
   "metadata": {},
   "outputs": [],
   "source": []
  },
  {
   "cell_type": "code",
   "execution_count": 82,
   "metadata": {},
   "outputs": [
    {
     "data": {
      "text/plain": [
       "(2000, 7200)"
      ]
     },
     "execution_count": 82,
     "metadata": {},
     "output_type": "execute_result"
    }
   ],
   "source": [
    "LAT = -10\n",
    "LONG = -60\n",
    "with rio.open(chirps) as src:\n",
    "    data = src.read()\n",
    "    data = np.squeeze(data).astype(\"float32\")\n",
    "\n",
    "lat_index = np.arange(0, data.shape[0])\n",
    "long_index = np.arange(0, data.shape[1])\n",
    "\n",
    "A = src.transform\n",
    "ymin, xmin = rio.transform.rowcol(A, -60, -20)\n",
    "ymax, xmax = rio.transform.rowcol(A, -50, -10)\n",
    "\n",
    "seg_data = data[ymax:ymin, xmin:xmax]\n",
    "chirps_2001 = Image.fromarray(seg_data)\n",
    "chirps_2001.save(\"../data/raw/segmented/chirps_2001.tif\")\n"
   ]
  },
  {
   "cell_type": "code",
   "execution_count": 103,
   "metadata": {},
   "outputs": [
    {
     "data": {
      "text/plain": [
       "array([[2224.9453, 2213.5957, 2227.5608, ..., 1784.4402, 1723.7512,\n",
       "        1712.4493],\n",
       "       [2227.0645, 2256.6042, 2246.2063, ..., 1778.2191, 1771.9319,\n",
       "        1734.282 ],\n",
       "       [2230.7144, 2266.6091, 2308.1462, ..., 1774.7363, 1759.7183,\n",
       "        1731.4569],\n",
       "       ...,\n",
       "       [ 861.0691,  897.737 ,  911.3354, ..., 1134.9917, 1134.5109,\n",
       "        1121.02  ],\n",
       "       [ 877.6898,  896.6368,  921.1529, ..., 1127.404 , 1124.0513,\n",
       "        1110.252 ],\n",
       "       [ 870.9298,  900.1557,  907.9926, ..., 1121.4924, 1122.8226,\n",
       "        1118.6578]], dtype=float32)"
      ]
     },
     "execution_count": 103,
     "metadata": {},
     "output_type": "execute_result"
    }
   ],
   "source": []
  },
  {
   "cell_type": "code",
   "execution_count": 105,
   "metadata": {},
   "outputs": [
    {
     "data": {
      "text/plain": [
       "array([[-9999., -9999., -9999., ..., -9999., -9999., -9999.],\n",
       "       [-9999., -9999., -9999., ..., -9999., -9999., -9999.],\n",
       "       [-9999., -9999., -9999., ..., -9999., -9999., -9999.],\n",
       "       ...,\n",
       "       [-9999., -9999., -9999., ..., -9999., -9999., -9999.],\n",
       "       [-9999., -9999., -9999., ..., -9999., -9999., -9999.],\n",
       "       [-9999., -9999., -9999., ..., -9999., -9999., -9999.]],\n",
       "      dtype=float32)"
      ]
     },
     "execution_count": 105,
     "metadata": {},
     "output_type": "execute_result"
    }
   ],
   "source": []
  },
  {
   "cell_type": "code",
   "execution_count": 61,
   "metadata": {},
   "outputs": [
    {
     "data": {
      "text/plain": [
       "array([], shape=(0, 200), dtype=float32)"
      ]
     },
     "execution_count": 61,
     "metadata": {},
     "output_type": "execute_result"
    }
   ],
   "source": []
  },
  {
   "cell_type": "code",
   "execution_count": 52,
   "metadata": {},
   "outputs": [
    {
     "ename": "IndexError",
     "evalue": "list index out of range",
     "output_type": "error",
     "traceback": [
      "\u001b[0;31m---------------------------------------------------------------------------\u001b[0m",
      "\u001b[0;31mIndexError\u001b[0m                                Traceback (most recent call last)",
      "\u001b[0;32m<ipython-input-52-8463b41f0484>\u001b[0m in \u001b[0;36m<module>\u001b[0;34m\u001b[0m\n\u001b[1;32m     20\u001b[0m \u001b[0mymin\u001b[0m\u001b[0;34m,\u001b[0m \u001b[0mymax\u001b[0m \u001b[0;34m=\u001b[0m \u001b[0;32mNone\u001b[0m\u001b[0;34m,\u001b[0m \u001b[0;32mNone\u001b[0m\u001b[0;34m\u001b[0m\u001b[0;34m\u001b[0m\u001b[0m\n\u001b[1;32m     21\u001b[0m \u001b[0;32mfor\u001b[0m \u001b[0my\u001b[0m \u001b[0;32min\u001b[0m \u001b[0mrange\u001b[0m\u001b[0;34m(\u001b[0m\u001b[0mylen\u001b[0m\u001b[0;34m)\u001b[0m\u001b[0;34m:\u001b[0m\u001b[0;34m\u001b[0m\u001b[0;34m\u001b[0m\u001b[0m\n\u001b[0;32m---> 22\u001b[0;31m     \u001b[0;32mif\u001b[0m \u001b[0mlat\u001b[0m\u001b[0;34m[\u001b[0m\u001b[0mylen\u001b[0m \u001b[0;34m-\u001b[0m \u001b[0my\u001b[0m \u001b[0;34m-\u001b[0m \u001b[0;36m1\u001b[0m\u001b[0;34m]\u001b[0m \u001b[0;34m>\u001b[0m \u001b[0mlat_min\u001b[0m\u001b[0;34m:\u001b[0m\u001b[0;34m\u001b[0m\u001b[0;34m\u001b[0m\u001b[0m\n\u001b[0m\u001b[1;32m     23\u001b[0m         \u001b[0mymin\u001b[0m \u001b[0;34m=\u001b[0m \u001b[0mylen\u001b[0m \u001b[0;34m-\u001b[0m \u001b[0my\u001b[0m \u001b[0;34m-\u001b[0m \u001b[0;36m1\u001b[0m \u001b[0;32mif\u001b[0m \u001b[0mymin\u001b[0m \u001b[0;34m==\u001b[0m \u001b[0;32mNone\u001b[0m \u001b[0;32melse\u001b[0m \u001b[0mymin\u001b[0m\u001b[0;34m\u001b[0m\u001b[0;34m\u001b[0m\u001b[0m\n\u001b[1;32m     24\u001b[0m     \u001b[0;32mif\u001b[0m \u001b[0mlat\u001b[0m\u001b[0;34m[\u001b[0m\u001b[0my\u001b[0m\u001b[0;34m]\u001b[0m \u001b[0;34m<\u001b[0m \u001b[0mlat_max\u001b[0m\u001b[0;34m:\u001b[0m\u001b[0;34m\u001b[0m\u001b[0;34m\u001b[0m\u001b[0m\n",
      "\u001b[0;31mIndexError\u001b[0m: list index out of range"
     ]
    }
   ],
   "source": [
    "target_coords = (-10, -60)\n",
    "length = 10\n",
    "lat_max = target_coords[0]\n",
    "lat_min = lat_max - length\n",
    "long_min = target_coords[1]\n",
    "long_max = long_min + length\n",
    "\n",
    "# length variables\n",
    "xlen = data.shape[0]\n",
    "ylen = data.shape[1]\n",
    "\n",
    "xmin, xmax = None, None\n",
    "for x in range(xlen):\n",
    "    if long[x] > long_min:\n",
    "        xmin = x if xmin == None else xmin\n",
    "    if long[xlen - x - 1] < long_max:\n",
    "        xmax = xlen - x - 1 if xmax == None else xmax\n",
    "\n",
    "# find ymin and ymax\n",
    "ymin, ymax = None, None\n",
    "for y in range(ylen):\n",
    "    if lat[ylen - y - 1] > lat_min:\n",
    "        ymin = ylen - y - 1 if ymin == None else ymin\n",
    "    if lat[y] < lat_max:\n",
    "        ymax = y if ymax == None else ymax"
   ]
  },
  {
   "cell_type": "code",
   "execution_count": 10,
   "metadata": {},
   "outputs": [],
   "source": [
    "from osgeo import gdal\n",
    "ds = gdal.Open(chirps)\n",
    "width = ds.RasterXSize\n",
    "height = ds.RasterYSize\n",
    "gt = ds.GetGeoTransform()\n",
    "minx = gt[0]\n",
    "miny = gt[3] + width*gt[4] + height*gt[5] \n",
    "maxx = gt[0] + width*gt[1] + height*gt[2]\n",
    "maxy = gt[3] "
   ]
  },
  {
   "cell_type": "code",
   "execution_count": 16,
   "metadata": {},
   "outputs": [
    {
     "ename": "KeyboardInterrupt",
     "evalue": "",
     "output_type": "error",
     "traceback": [
      "\u001b[0;31m---------------------------------------------------------------------------\u001b[0m",
      "\u001b[0;31mKeyboardInterrupt\u001b[0m                         Traceback (most recent call last)",
      "\u001b[0;32m<ipython-input-16-dd689c77eaed>\u001b[0m in \u001b[0;36m<module>\u001b[0;34m\u001b[0m\n\u001b[1;32m      1\u001b[0m \u001b[0mk\u001b[0m \u001b[0;34m=\u001b[0m \u001b[0;36m2000\u001b[0m\u001b[0;34m*\u001b[0m\u001b[0;36m7200\u001b[0m\u001b[0;34m\u001b[0m\u001b[0;34m\u001b[0m\u001b[0m\n\u001b[0;32m----> 2\u001b[0;31m \u001b[0mq\u001b[0m \u001b[0;34m=\u001b[0m \u001b[0mps\u001b[0m\u001b[0;34m.\u001b[0m\u001b[0mcg\u001b[0m\u001b[0;34m.\u001b[0m\u001b[0mgeogrid\u001b[0m\u001b[0;34m(\u001b[0m\u001b[0;34m(\u001b[0m\u001b[0;34m-\u001b[0m\u001b[0;36m50\u001b[0m\u001b[0;34m,\u001b[0m \u001b[0;34m-\u001b[0m\u001b[0;36m180\u001b[0m\u001b[0;34m)\u001b[0m\u001b[0;34m,\u001b[0m \u001b[0;34m(\u001b[0m\u001b[0;36m50\u001b[0m\u001b[0;34m,\u001b[0m \u001b[0;36m180\u001b[0m\u001b[0;34m)\u001b[0m\u001b[0;34m,\u001b[0m \u001b[0mk\u001b[0m\u001b[0;34m,\u001b[0m \u001b[0mlonx\u001b[0m\u001b[0;34m=\u001b[0m\u001b[0;32mFalse\u001b[0m\u001b[0;34m)\u001b[0m\u001b[0;34m\u001b[0m\u001b[0;34m\u001b[0m\u001b[0m\n\u001b[0m",
      "\u001b[0;32m~/opt/anaconda3/lib/python3.7/site-packages/libpysal/cg/sphere.py\u001b[0m in \u001b[0;36mgeogrid\u001b[0;34m(pup, pdown, k, lonx)\u001b[0m\n\u001b[1;32m    484\u001b[0m         \u001b[0mgrid\u001b[0m\u001b[0;34m.\u001b[0m\u001b[0mappend\u001b[0m\u001b[0;34m(\u001b[0m\u001b[0mleftside\u001b[0m\u001b[0;34m[\u001b[0m\u001b[0mi\u001b[0m\u001b[0;34m]\u001b[0m\u001b[0;34m)\u001b[0m\u001b[0;34m\u001b[0m\u001b[0;34m\u001b[0m\u001b[0m\n\u001b[1;32m    485\u001b[0m         \u001b[0;32mfor\u001b[0m \u001b[0mt\u001b[0m \u001b[0;32min\u001b[0m \u001b[0mtpoints\u001b[0m\u001b[0;34m:\u001b[0m\u001b[0;34m\u001b[0m\u001b[0;34m\u001b[0m\u001b[0m\n\u001b[0;32m--> 486\u001b[0;31m             \u001b[0mnewp\u001b[0m \u001b[0;34m=\u001b[0m \u001b[0mgeointerpolate\u001b[0m\u001b[0;34m(\u001b[0m\u001b[0mleftside\u001b[0m\u001b[0;34m[\u001b[0m\u001b[0mi\u001b[0m\u001b[0;34m]\u001b[0m\u001b[0;34m,\u001b[0m \u001b[0mrightside\u001b[0m\u001b[0;34m[\u001b[0m\u001b[0mi\u001b[0m\u001b[0;34m]\u001b[0m\u001b[0;34m,\u001b[0m \u001b[0mt\u001b[0m\u001b[0;34m)\u001b[0m\u001b[0;34m\u001b[0m\u001b[0;34m\u001b[0m\u001b[0m\n\u001b[0m\u001b[1;32m    487\u001b[0m             \u001b[0mgrid\u001b[0m\u001b[0;34m.\u001b[0m\u001b[0mappend\u001b[0m\u001b[0;34m(\u001b[0m\u001b[0mnewp\u001b[0m\u001b[0;34m)\u001b[0m\u001b[0;34m\u001b[0m\u001b[0;34m\u001b[0m\u001b[0m\n\u001b[1;32m    488\u001b[0m         \u001b[0mgrid\u001b[0m\u001b[0;34m.\u001b[0m\u001b[0mappend\u001b[0m\u001b[0;34m(\u001b[0m\u001b[0mrightside\u001b[0m\u001b[0;34m[\u001b[0m\u001b[0mi\u001b[0m\u001b[0;34m]\u001b[0m\u001b[0;34m)\u001b[0m\u001b[0;34m\u001b[0m\u001b[0;34m\u001b[0m\u001b[0m\n",
      "\u001b[0;32m~/opt/anaconda3/lib/python3.7/site-packages/libpysal/cg/sphere.py\u001b[0m in \u001b[0;36mgeointerpolate\u001b[0;34m(p0, p1, t, lonx)\u001b[0m\n\u001b[1;32m    430\u001b[0m \u001b[0;34m\u001b[0m\u001b[0m\n\u001b[1;32m    431\u001b[0m     \u001b[0mnewpx\u001b[0m \u001b[0;34m=\u001b[0m \u001b[0mr2d\u001b[0m\u001b[0;34m(\u001b[0m\u001b[0mmath\u001b[0m\u001b[0;34m.\u001b[0m\u001b[0matan2\u001b[0m\u001b[0;34m(\u001b[0m\u001b[0my\u001b[0m\u001b[0;34m,\u001b[0m \u001b[0mx\u001b[0m\u001b[0;34m)\u001b[0m\u001b[0;34m)\u001b[0m\u001b[0;34m\u001b[0m\u001b[0;34m\u001b[0m\u001b[0m\n\u001b[0;32m--> 432\u001b[0;31m     \u001b[0mnewpy\u001b[0m \u001b[0;34m=\u001b[0m \u001b[0mr2d\u001b[0m\u001b[0;34m(\u001b[0m\u001b[0mmath\u001b[0m\u001b[0;34m.\u001b[0m\u001b[0matan2\u001b[0m\u001b[0;34m(\u001b[0m\u001b[0mz\u001b[0m\u001b[0;34m,\u001b[0m \u001b[0mmath\u001b[0m\u001b[0;34m.\u001b[0m\u001b[0msqrt\u001b[0m\u001b[0;34m(\u001b[0m\u001b[0mx\u001b[0m \u001b[0;34m*\u001b[0m \u001b[0mx\u001b[0m \u001b[0;34m+\u001b[0m \u001b[0my\u001b[0m \u001b[0;34m*\u001b[0m \u001b[0my\u001b[0m\u001b[0;34m)\u001b[0m\u001b[0;34m)\u001b[0m\u001b[0;34m)\u001b[0m\u001b[0;34m\u001b[0m\u001b[0;34m\u001b[0m\u001b[0m\n\u001b[0m\u001b[1;32m    433\u001b[0m     \u001b[0;32mif\u001b[0m \u001b[0;32mnot\u001b[0m \u001b[0;34m(\u001b[0m\u001b[0mlonx\u001b[0m\u001b[0;34m)\u001b[0m\u001b[0;34m:\u001b[0m\u001b[0;34m\u001b[0m\u001b[0;34m\u001b[0m\u001b[0m\n\u001b[1;32m    434\u001b[0m         \u001b[0;32mreturn\u001b[0m \u001b[0mnewpy\u001b[0m\u001b[0;34m,\u001b[0m \u001b[0mnewpx\u001b[0m\u001b[0;34m\u001b[0m\u001b[0;34m\u001b[0m\u001b[0m\n",
      "\u001b[0;31mKeyboardInterrupt\u001b[0m: "
     ]
    }
   ],
   "source": [
    "\n"
   ]
  },
  {
   "cell_type": "code",
   "execution_count": 32,
   "metadata": {},
   "outputs": [],
   "source": [
    "def load_data(path):\n",
    "    with rio.open(value) as src:\n",
    "        data = src.read()\n",
    "        data = np.squeeze(data).astype(\"float32\")\n",
    "    return data, src\n",
    "def get_lat_long(data, src):\n",
    "    # index array\n",
    "    lat_index = np.arange(0, data.shape[0])\n",
    "    long_index = np.arange(0, data.shape[1])\n",
    "    \n",
    "    # getting long and lat\n",
    "    A = src.transform\n",
    "    lat, long = rio.transform.xy(A, lat_index, long_index)\n",
    "    \n",
    "    # reshaping to shape of original data\n",
    "    lat = np.array(lat)\n",
    "    long = np.array(long)\n",
    "    \n",
    "    return lat, long\n",
    "\n",
    "def segment_coords(data, lat, long, target_coords = (0, 0), border = 0, length = 10):\n",
    "    # latitude/longitude variables\n",
    "    lat_max = target_coords[0]\n",
    "    lat_min = lat_max - length\n",
    "    long_min = target_coords[1]\n",
    "    long_max = long_min + length\n",
    "    \n",
    "    # length variables\n",
    "    xlen = data.shape[1]\n",
    "    ylen = data.shape[0]\n",
    "    \n",
    "    # find xmin and xmax\n",
    "    xmin, xmax = None, None\n",
    "    for x in range(xlen):\n",
    "        if long[0, x] > long_min:\n",
    "            xmin = x if xmin == None else xmin\n",
    "        if long[0, xlen - x - 1] < long_max:\n",
    "            xmax = xlen - x - 1 if xmax == None else xmax\n",
    "            \n",
    "    # find ymin and ymax\n",
    "    ymin, ymax = None, None\n",
    "    for y in range(ylen):\n",
    "        if lat[ylen - y - 1, 0] > lat_min:\n",
    "            ymin = ylen - y - 1 if ymin == None else ymin\n",
    "        if lat[y, 0] < lat_max:\n",
    "            ymax = y if ymax == None else ymax\n",
    "            \n",
    "    # index data from top-bottom, left-right\n",
    "    return data[ymax:ymin + border, xmin:xmax + border]"
   ]
  },
  {
   "cell_type": "code",
   "execution_count": null,
   "metadata": {},
   "outputs": [],
   "source": [
    "def load_data(path):\n",
    "    with rio.open(value) as src:\n",
    "        data = src.read()\n",
    "        data = np.squeeze(data).astype(\"float32\")\n",
    "    return data, src\n",
    "def get_lat_long(data, src):\n",
    "    # index array\n",
    "    lat_index = np.arange(0, data.shape[0])\n",
    "    long_index = np.arange(0, data.shape[1])\n",
    "    \n",
    "    # getting long and lat\n",
    "    A = src.transform\n",
    "    lat, long = rio.transform.xy(A, lat_index, long_index)\n",
    "    \n",
    "    # reshaping to shape of original data\n",
    "    lat = np.array(lat)\n",
    "    long = np.array(long)\n",
    "    \n",
    "    return lat, long\n",
    "\n",
    "def segment_coords(data, lat, long, target_coords = (0, 0), border = 0, length = 10):\n",
    "    # latitude/longitude variables\n",
    "    lat_max = target_coords[0]\n",
    "    lat_min = lat_max - length\n",
    "    long_min = target_coords[1]\n",
    "    long_max = long_min + length\n",
    "    \n",
    "    # length variables\n",
    "    xlen = data.shape[1]\n",
    "    ylen = data.shape[0]\n",
    "    \n",
    "    # find xmin and xmax\n",
    "    xmin, xmax = None, None\n",
    "    for x in range(xlen):\n",
    "        if long[0, x] > long_min:\n",
    "            xmin = x if xmin == None else xmin\n",
    "        if long[0, xlen - x - 1] < long_max:\n",
    "            xmax = xlen - x - 1 if xmax == None else xmax\n",
    "            \n",
    "    # find ymin and ymax\n",
    "    ymin, ymax = None, None\n",
    "    for y in range(ylen):\n",
    "        if lat[ylen - y - 1, 0] > lat_min:\n",
    "            ymin = ylen - y - 1 if ymin == None else ymin\n",
    "        if lat[y, 0] < lat_max:\n",
    "            ymax = y if ymax == None else ymax\n",
    "            \n",
    "    # index data from top-bottom, left-right\n",
    "    return data[ymax:ymin + border, xmin:xmax + border"
   ]
  }
 ],
 "metadata": {
  "kernelspec": {
   "display_name": "Python 3",
   "language": "python",
   "name": "python3"
  },
  "language_info": {
   "codemirror_mode": {
    "name": "ipython",
    "version": 3
   },
   "file_extension": ".py",
   "mimetype": "text/x-python",
   "name": "python",
   "nbconvert_exporter": "python",
   "pygments_lexer": "ipython3",
   "version": "3.7.4"
  }
 },
 "nbformat": 4,
 "nbformat_minor": 2
}

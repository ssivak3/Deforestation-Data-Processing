{
 "cells": [
  {
   "cell_type": "code",
   "execution_count": 1,
   "metadata": {},
   "outputs": [],
   "source": [
    "import rasterio as rio\n",
    "import numpy as np\n",
    "from PIL import Image"
   ]
  },
  {
   "cell_type": "code",
   "execution_count": 2,
   "metadata": {},
   "outputs": [],
   "source": [
    "def load_data(paths):\n",
    "    datasets = []\n",
    "    for path in paths:\n",
    "        with rio.open(path) as src:\n",
    "            data = src.read()\n",
    "            print(\"in here\")\n",
    "            data = np.squeeze(data).astype(\"float32\")\n",
    "            print(\"let me ooouuuut\")\n",
    "            datasets.append(data)\n",
    "            print(\"k thx love you bye\")\n",
    "    return datasets, src"
   ]
  },
  {
   "cell_type": "code",
   "execution_count": 3,
   "metadata": {},
   "outputs": [],
   "source": [
    "def get_coord_string(coords):\n",
    "    if coords[0] < 0:\n",
    "        lat = str(coords[0]*-1) + \"S\"\n",
    "    else:\n",
    "        lat = str(coords[0]) + \"N\"\n",
    "    if coords[1] < 0:\n",
    "        long = str(coords[1]*-1) + \"W\"\n",
    "    else:\n",
    "        long = str(coords[1]) + \"E\"\n",
    "    coord_string = lat + long\n",
    "    print(coord_string)\n",
    "    \n",
    "    return coord_string"
   ]
  },
  {
   "cell_type": "code",
   "execution_count": 4,
   "metadata": {},
   "outputs": [],
   "source": [
    "def get_lat_long(data, src):\n",
    "    print(\"inside lat long\")\n",
    "    # index array\n",
    "    lat_index = np.arange(0, data.shape[0])\n",
    "    long_index = np.arange(0, data.shape[1])\n",
    "\n",
    "    print(\"made meshgrid :)\")\n",
    "   \n",
    "    print(\"trying to transform\")\n",
    "    A = src.transform\n",
    "    print(\"transformed !\")\n",
    "    long, lat = rio.transform.xy(A, lat_grid_flat, long_grid_flat)\n",
    "    print(\"finished this line\")\n",
    "    # reshaping to shape of original data\n",
    "    lat = np.array(lat).reshape(data.shape)\n",
    "    print(\"working on this line\")\n",
    "    long = np.array(long).reshape(data.shape)\n",
    "    print(\"returning\")\n",
    "    return lat, long\n",
    "\n",
    "def segment_coords(data, lat, long, target_coords = (0, 0), border = 0, length = 10):\n",
    "    # latitude/longitude variables\n",
    "    lat_max = target_coords[0]\n",
    "    lat_min = lat_max - length\n",
    "    long_min = target_coords[1]\n",
    "    long_max = long_min + length\n",
    "    \n",
    "    # length variables\n",
    "    xlen = data.shape[1]\n",
    "    ylen = data.shape[0]\n",
    "    print(\"segmenting\")\n",
    "    # find xmin and xmax\n",
    "    xmin, xmax = None, None\n",
    "    for x in range(xlen):\n",
    "        if long[0, x] > long_min:\n",
    "            xmin = x if xmin == None else xmin\n",
    "        if long[0, xlen - x - 1] < long_max:\n",
    "            xmax = xlen - x - 1 if xmax == None else xmax\n",
    "            \n",
    "    # find ymin and ymax\n",
    "    ymin, ymax = None, None\n",
    "    for y in range(ylen):\n",
    "        if lat[ylen - y - 1, 0] > lat_min:\n",
    "            ymin = ylen - y - 1 if ymin == None else ymin\n",
    "        if lat[y, 0] < lat_max:\n",
    "            ymax = y if ymax == None else ymax\n",
    "            \n",
    "    # index data from top-bottom, left-right\n",
    "    return data[ymax:ymin + border, xmin:xmax + border]\n"
   ]
  },
  {
   "cell_type": "code",
   "execution_count": 5,
   "metadata": {},
   "outputs": [],
   "source": [
    "def segment(paths, target_coords, years, name=\"\"):\n",
    "    print(\"function is running !!!!\")\n",
    "    data, src = load_data(paths)\n",
    "    lat, long = get_lat_long(data[0], src)\n",
    "    for i in range(len(data)):\n",
    "        print(\"here\")\n",
    "        data_seg = segment_coords(data[i], lat, long, target_coords)\n",
    "        data_seg = Image.fromarray(data_seg)\n",
    "        data_seg.save(\"../data/raw/segmented/{coords}/{name}_{yr}_{coords}.tif\".format(coords = get_coord_string(target_coords), name = name, yr = years[i]))\n",
    "        print(\"saved \", years[i], \"data\")"
   ]
  },
  {
   "cell_type": "code",
   "execution_count": 6,
   "metadata": {},
   "outputs": [],
   "source": [
    "pop_paths = []\n",
    "years = (2000,2005, 2010, 2015)\n",
    "for yr in years:\n",
    "    pop_data_path = \"../data/raw/population/gpw_v4_population_count_rev11_{yr}_30_sec.tif\".format(yr = yr)\n",
    "    pop_paths.append(pop_data_path)"
   ]
  },
  {
   "cell_type": "code",
   "execution_count": null,
   "metadata": {},
   "outputs": [
    {
     "name": "stdout",
     "output_type": "stream",
     "text": [
      "function is running !!!!\n",
      "in here\n",
      "let me ooouuuut\n",
      "k thx love you bye\n",
      "in here\n",
      "let me ooouuuut\n",
      "k thx love you bye\n",
      "in here\n",
      "let me ooouuuut\n",
      "k thx love you bye\n",
      "in here\n",
      "let me ooouuuut\n",
      "k thx love you bye\n",
      "inside lat long\n",
      "made meshgrid :)\n",
      "trying to transform\n",
      "transformed !\n"
     ]
    }
   ],
   "source": [
    "segment(pop_paths, (-10, -60), years, name=\"pop\")"
   ]
  },
  {
   "cell_type": "code",
   "execution_count": null,
   "metadata": {},
   "outputs": [],
   "source": []
  }
 ],
 "metadata": {
  "kernelspec": {
   "display_name": "Python 3",
   "language": "python",
   "name": "python3"
  },
  "language_info": {
   "codemirror_mode": {
    "name": "ipython",
    "version": 3
   },
   "file_extension": ".py",
   "mimetype": "text/x-python",
   "name": "python",
   "nbconvert_exporter": "python",
   "pygments_lexer": "ipython3",
   "version": "3.7.4"
  }
 },
 "nbformat": 4,
 "nbformat_minor": 2
}

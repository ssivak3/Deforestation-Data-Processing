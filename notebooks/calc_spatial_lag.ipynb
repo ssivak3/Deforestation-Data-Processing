{
 "cells": [
  {
   "cell_type": "code",
   "execution_count": 2,
   "metadata": {},
   "outputs": [],
   "source": [
    "import numpy as np\n",
    "import pandas as pd\n",
    "import libpysal as ps"
   ]
  },
  {
   "cell_type": "code",
   "execution_count": 3,
   "metadata": {},
   "outputs": [],
   "source": [
    "# load data\n",
    "agg_data = pd.read_csv(\"../data/processed/aggregate.csv\")"
   ]
  },
  {
   "cell_type": "code",
   "execution_count": 50,
   "metadata": {},
   "outputs": [],
   "source": [
    "# create a dataframe to store spatial lag information\n",
    "colnames = list(agg_data)[3:41]\n",
    "spatial_lag_1st = pd.DataFrame(columns = colnames)\n",
    "spatial_lag_2nd = pd.DataFrame(columns = colnames)"
   ]
  },
  {
   "cell_type": "code",
   "execution_count": null,
   "metadata": {},
   "outputs": [],
   "source": [
    "# get first-order weights matrix\n",
    "w = ps.weights.lat2W(nrows=500, ncols=500, rook=False)\n",
    "# convert first order weights matrix into second order\n",
    "w2 = ps.weights.higher_order(w, k = 2)\n",
    "\n",
    "# apply transform to row standardize spatial weights matrix\n",
    "w.transform='r'\n",
    "w2.transform='r'"
   ]
  },
  {
   "cell_type": "code",
   "execution_count": null,
   "metadata": {},
   "outputs": [],
   "source": [
    "# run spatial lag function on aggregate data for first and second order neighbors\n",
    "for col in colnames:\n",
    "    data = agg_data[col]\n",
    "    lag1 = ps.weights.lag_spatial(w, data)\n",
    "    lag2 = ps.weights.lag_spatial(w2, data)\n",
    "    spatial_lag_1st[col] = lag1\n",
    "    spatial_lag_2nd[col] = lag2  "
   ]
  },
  {
   "cell_type": "code",
   "execution_count": 59,
   "metadata": {},
   "outputs": [],
   "source": [
    "spatial_lag_1st.to_csv(\"../data/processed/spatial_lag_1st.csv\", index_label = \"ID\")\n",
    "spatial_lag_2nd.to_csv(\"../data/processed/spatial_lag_2nd.csv\", index_label = \"ID\")"
   ]
  }
 ],
 "metadata": {
  "kernelspec": {
   "display_name": "Python 3",
   "language": "python",
   "name": "python3"
  },
  "language_info": {
   "codemirror_mode": {
    "name": "ipython",
    "version": 3
   },
   "file_extension": ".py",
   "mimetype": "text/x-python",
   "name": "python",
   "nbconvert_exporter": "python",
   "pygments_lexer": "ipython3",
   "version": "3.7.4"
  }
 },
 "nbformat": 4,
 "nbformat_minor": 2
}

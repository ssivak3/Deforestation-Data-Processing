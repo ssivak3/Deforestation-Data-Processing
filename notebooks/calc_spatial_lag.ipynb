{
 "cells": [
  {
   "cell_type": "code",
   "execution_count": 80,
   "metadata": {},
   "outputs": [],
   "source": [
    "import numpy as np\n",
    "import pandas as pd\n",
    "import libpysal as ps"
   ]
  },
  {
   "cell_type": "code",
   "execution_count": 90,
   "metadata": {},
   "outputs": [],
   "source": [
    "agg_data = pd.read_csv(\"../data/processed/aggregate.csv\")"
   ]
  },
  {
   "cell_type": "code",
   "execution_count": 98,
   "metadata": {},
   "outputs": [],
   "source": [
    "colnames = list(agg_data)[3:41]\n",
    "spatial_lag = pd.DataFrame(columns = colnames)\n",
    "\n",
    "for col in colnames:\n",
    "    data = agg_data[col]\n",
    "    w = ps.weights.lat2W(nrows=500, ncols=500, rook=False)\n",
    "    lag = ps.weights.lag_spatial(w, data)\n",
    "    spatial_lag[col] = lag\n",
    "    "
   ]
  },
  {
   "cell_type": "code",
   "execution_count": 101,
   "metadata": {
    "scrolled": true
   },
   "outputs": [],
   "source": [
    "spatial_lag.to_csv(\"../data/processed/spatial_lag.csv\")"
   ]
  },
  {
   "cell_type": "code",
   "execution_count": null,
   "metadata": {},
   "outputs": [],
   "source": []
  }
 ],
 "metadata": {
  "kernelspec": {
   "display_name": "Python 3",
   "language": "python",
   "name": "python3"
  },
  "language_info": {
   "codemirror_mode": {
    "name": "ipython",
    "version": 3
   },
   "file_extension": ".py",
   "mimetype": "text/x-python",
   "name": "python",
   "nbconvert_exporter": "python",
   "pygments_lexer": "ipython3",
   "version": "3.7.4"
  }
 },
 "nbformat": 4,
 "nbformat_minor": 2
}
